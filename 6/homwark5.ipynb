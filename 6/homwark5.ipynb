{
 "cells": [
  {
   "cell_type": "code",
   "execution_count": 19,
   "metadata": {},
   "outputs": [],
   "source": [
    "import numpy as np\n",
    "# Import LabelEncoder\n",
    "from sklearn import preprocessing #استدعاء مكتبة تحويل النصوص الى ارقام \n",
    "#Generating the Gaussian Naive Bayes model\n",
    "from sklearn.naive_bayes import GaussianNB\n",
    "from sklearn.metrics import accuracy_score"
   ]
  },
  {
   "cell_type": "code",
   "execution_count": 20,
   "metadata": {},
   "outputs": [],
   "source": [
    "# Assign features and encoding labels\n",
    "weather=['Sunny','Sunny','Overcast','Rainy','Rainy','Rainy','Overcast','Sunny','Sunny',\n",
    "'Rainy','Sunny','Overcast','Overcast','Rainy']#مصفوفة للطقس \n",
    "humidity=['High','High','High','Medium','Low','Low','Low','Medium',\n",
    "          'Low','Medium','Medium','Medium','High','Medium']#مصفوفة حالة الطقس \n",
    "\n",
    "batfirst=['No','No','Yes','Yes','Yes','No','Yes','No','Yes','Yes','Yes',\n",
    "          'Yes','Yes','No']#مصفوفة امكانية اللعب او لا"
   ]
  },
  {
   "cell_type": "code",
   "execution_count": 21,
   "metadata": {},
   "outputs": [
    {
     "name": "stdout",
     "output_type": "stream",
     "text": [
      "[2 2 0 1 1 1 0 2 2 1 2 0 0 1] [0 0 0 2 1 1 1 2 1 2 2 2 0 2] [0 0 1 1 1 0 1 0 1 1 1 1 1 0]\n"
     ]
    }
   ],
   "source": [
    "# Creating labelEncoder\n",
    "le = preprocessing.LabelEncoder()#دالة تحويل البيانات منم نصية الى رقمية \n",
    "# Converting string labels into numbers.\n",
    "weather_encoded=le.fit_transform(weather)#تشفير بيانات مصفوفة الطقس وتحويلها من نصية الى رقمية \n",
    "hum_encoded=le.fit_transform(humidity)#تشفير بيانات مصفوفة حالة الطقس وتحويلها من نصية الى رقمية\n",
    "label=le.fit_transform(batfirst)#تشفير بيانات مصفوفة امكانية اللعب وتحويلها من نصية الى رقمية\n",
    "print(weather_encoded,hum_encoded,label)#نقوم بطباعة المصفوفات المشفرة "
   ]
  },
  {
   "cell_type": "code",
   "execution_count": 22,
   "metadata": {},
   "outputs": [
    {
     "data": {
      "text/plain": [
       "GaussianNB()"
      ]
     },
     "execution_count": 22,
     "metadata": {},
     "output_type": "execute_result"
    }
   ],
   "source": [
    "#Combining weather and humidity in a single tuple as features\n",
    "features=list(zip(weather_encoded,hum_encoded))\n",
    "#نقوم بدمج مصفوفة الطقس وحالة الطقس المشفرات الى مصفوفة واحدة \n",
    "\n",
    "#Create a Gaussian Classifier\n",
    "model = GaussianNB()#نقوم باستدعاء دالة التصنيف \n",
    "model.fit(features,label) #Train the model using training set.\n",
    "# نقوم بعملية التدريب باستخدام خوارزمية جاوس  "
   ]
  },
  {
   "cell_type": "code",
   "execution_count": 23,
   "metadata": {},
   "outputs": [
    {
     "name": "stdout",
     "output_type": "stream",
     "text": [
      "Enter Weather and Humidtity conditions : \n",
      "[0]\n"
     ]
    }
   ],
   "source": [
    "print(\"Enter Weather and Humidtity conditions : \")\n",
    "#w,h=map(int, input().split())\n",
    "\n",
    "#Predict Output\n",
    "#\n",
    "predicted= model.predict(np.array([2,0]).reshape(1,-1)) \n",
    "# ''' For Weather : 0:Overcast, 2:Sunny , 1:Rainy ''' For Humidity : 0:High, 2:Medium, 1:low\n",
    "#(2)إذا اردنا التنبؤ في امكانية اللعب اذا كان الجو غائم(0) وحار \n",
    "print(predicted) \n",
    "# --> [1] that means yes, the player should bat first and [0] that means No, player should bowl first.\n",
    "# اذا كان ناتج الاختبار 1 يدل على امكانية اللعب واذا كان ناتج الاختبار 0 يدل على عدم امكانية اللعب "
   ]
  },
  {
   "cell_type": "code",
   "execution_count": 27,
   "metadata": {},
   "outputs": [
    {
     "name": "stdout",
     "output_type": "stream",
     "text": [
      "0.7142857142857143\n"
     ]
    }
   ],
   "source": [
    "print(model.score(features,label))#درجة امكانية اللعب "
   ]
  },
  {
   "cell_type": "code",
   "execution_count": null,
   "metadata": {},
   "outputs": [],
   "source": []
  },
  {
   "cell_type": "code",
   "execution_count": null,
   "metadata": {},
   "outputs": [],
   "source": []
  }
 ],
 "metadata": {
  "kernelspec": {
   "display_name": "Python 3",
   "language": "python",
   "name": "python3"
  },
  "language_info": {
   "codemirror_mode": {
    "name": "ipython",
    "version": 3
   },
   "file_extension": ".py",
   "mimetype": "text/x-python",
   "name": "python",
   "nbconvert_exporter": "python",
   "pygments_lexer": "ipython3",
   "version": "3.8.5"
  }
 },
 "nbformat": 4,
 "nbformat_minor": 4
}
